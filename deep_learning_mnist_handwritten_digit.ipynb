{
 "cells": [
  {
   "cell_type": "markdown",
   "metadata": {},
   "source": [
    "# 2020_dl_mnist-handwritten-digit-classifer\n",
    "\n",
    "## Purpose\n",
    "\n",
    "This is a deep neural network that I am building from my notes from this class: [Udacity - Intro to Deep Learning with Pytorch](https://classroom.udacity.com/courses/ud188/lessons/c5706f76-0e30-4b48-b74e-c19fafc33a75/concepts/0d735345-f080-49c4-8fbf-a68012923f50). I want to reinforce what I learned from Lessons 4 and 5 by building a complete (basic) network using only my notes and the Pytorch documentation as references.\n",
    "\n",
    "## Plan\n",
    "\n",
    "- Transform and load MNIST handwritten digits data\n",
    "- Define a neural network class\n",
    "- Select an error function and optimizer for the network\n",
    "- Train the model with validation\n",
    "  - Print training and testing loss each epoch\n",
    "  - Graph?\n",
    "- Save the model\n",
    "- Load the model from file\n",
    "- Test the model"
   ]
  },
  {
   "cell_type": "code",
   "execution_count": 2,
   "metadata": {},
   "outputs": [],
   "source": [
    "import torch"
   ]
  },
  {
   "cell_type": "markdown",
   "metadata": {},
   "source": [
    "### Download, Transform, and Load the Data"
   ]
  },
  {
   "cell_type": "code",
   "execution_count": 1,
   "metadata": {},
   "outputs": [
    {
     "name": "stdout",
     "output_type": "stream",
     "text": [
      "Dataset MNIST\n",
      "    Number of datapoints: 60000\n",
      "    Root location: ./2020_data_mnist\n",
      "    Split: Train\n",
      "    StandardTransform\n",
      "Transform: Compose(\n",
      "               ToTensor()\n",
      "               Normalize(mean=(0.5,), std=(0.5,))\n",
      "           ) Dataset MNIST\n",
      "    Number of datapoints: 10000\n",
      "    Root location: ./2020_data_mnist\n",
      "    Split: Test\n",
      "    StandardTransform\n",
      "Transform: Compose(\n",
      "               ToTensor()\n",
      "               Normalize(mean=(0.5,), std=(0.5,))\n",
      "           )\n"
     ]
    },
    {
     "ename": "NameError",
     "evalue": "name 'torch' is not defined",
     "output_type": "error",
     "traceback": [
      "\u001b[0;31m---------------------------------------------------------------------------\u001b[0m",
      "\u001b[0;31mNameError\u001b[0m                                 Traceback (most recent call last)",
      "\u001b[0;32m<ipython-input-1-e46745ed4011>\u001b[0m in \u001b[0;36m<module>\u001b[0;34m\u001b[0m\n\u001b[1;32m     23\u001b[0m \u001b[0mvalid_sampler\u001b[0m \u001b[0;34m=\u001b[0m \u001b[0mSubsetRandomSampler\u001b[0m\u001b[0;34m(\u001b[0m\u001b[0mvalid_indices\u001b[0m\u001b[0;34m)\u001b[0m\u001b[0;34m\u001b[0m\u001b[0;34m\u001b[0m\u001b[0m\n\u001b[1;32m     24\u001b[0m \u001b[0;34m\u001b[0m\u001b[0m\n\u001b[0;32m---> 25\u001b[0;31m \u001b[0mtrain_loader\u001b[0m \u001b[0;34m=\u001b[0m \u001b[0mtorch\u001b[0m\u001b[0;34m.\u001b[0m\u001b[0mutils\u001b[0m\u001b[0;34m.\u001b[0m\u001b[0mdata\u001b[0m\u001b[0;34m.\u001b[0m\u001b[0mDataLoader\u001b[0m\u001b[0;34m(\u001b[0m\u001b[0mtrain_data\u001b[0m\u001b[0;34m,\u001b[0m \u001b[0mbatch_size\u001b[0m\u001b[0;34m=\u001b[0m\u001b[0;36m64\u001b[0m\u001b[0;34m,\u001b[0m \u001b[0msampler\u001b[0m\u001b[0;34m=\u001b[0m\u001b[0mtrain_sampler\u001b[0m\u001b[0;34m)\u001b[0m\u001b[0;34m\u001b[0m\u001b[0;34m\u001b[0m\u001b[0m\n\u001b[0m\u001b[1;32m     26\u001b[0m \u001b[0mvalid_loader\u001b[0m \u001b[0;34m=\u001b[0m \u001b[0mtorch\u001b[0m\u001b[0;34m.\u001b[0m\u001b[0mutils\u001b[0m\u001b[0;34m.\u001b[0m\u001b[0mdata\u001b[0m\u001b[0;34m.\u001b[0m\u001b[0mDataLoader\u001b[0m\u001b[0;34m(\u001b[0m\u001b[0mtrain_data\u001b[0m\u001b[0;34m,\u001b[0m \u001b[0mbatch_size\u001b[0m\u001b[0;34m=\u001b[0m\u001b[0;36m64\u001b[0m\u001b[0;34m,\u001b[0m \u001b[0msampler\u001b[0m\u001b[0;34m=\u001b[0m\u001b[0mvalid_sampler\u001b[0m\u001b[0;34m)\u001b[0m\u001b[0;34m\u001b[0m\u001b[0;34m\u001b[0m\u001b[0m\n\u001b[1;32m     27\u001b[0m \u001b[0mtest_loader\u001b[0m \u001b[0;34m=\u001b[0m \u001b[0mtorch\u001b[0m\u001b[0;34m.\u001b[0m\u001b[0mutils\u001b[0m\u001b[0;34m.\u001b[0m\u001b[0mdata\u001b[0m\u001b[0;34m.\u001b[0m\u001b[0mDataLoader\u001b[0m\u001b[0;34m(\u001b[0m\u001b[0mtest_data\u001b[0m\u001b[0;34m,\u001b[0m \u001b[0mbatch_size\u001b[0m\u001b[0;34m=\u001b[0m\u001b[0;36m64\u001b[0m\u001b[0;34m)\u001b[0m\u001b[0;34m\u001b[0m\u001b[0;34m\u001b[0m\u001b[0m\n",
      "\u001b[0;31mNameError\u001b[0m: name 'torch' is not defined"
     ]
    }
   ],
   "source": [
    "from torchvision import transforms, datasets\n",
    "from torch.utils.data.sampler import SubsetRandomSampler\n",
    "import numpy as np\n",
    "\n",
    "transform = transforms.Compose([transforms.ToTensor(),\n",
    "                                transforms.Normalize((0.5,), (0.5,))])\n",
    "\n",
    "train_data = datasets.MNIST(\"./2020_data_mnist\", train=True, transform=transform, download=True)\n",
    "test_data = datasets.MNIST(\"./2020_data_mnist\", train=False, transform=transform, download=False)\n",
    "\n",
    "print(train_data, test_data)\n",
    "\n",
    "# Percent of training data to split off for validation\n",
    "valid_size = 0.2\n",
    "\n",
    "data_len = len(train_data)\n",
    "indices = list(range(data_len))\n",
    "np.random.shuffle(indices)\n",
    "split = int(np.floor(valid_size * data_len))\n",
    "valid_indices, train_indices = indices[:split], indices[split:]\n",
    "\n",
    "train_sampler = SubsetRandomSampler(train_indices)\n",
    "valid_sampler = SubsetRandomSampler(valid_indices)\n",
    "\n",
    "train_loader = torch.utils.data.DataLoader(train_data, batch_size=64, sampler=train_sampler)\n",
    "valid_loader = torch.utils.data.DataLoader(train_data, batch_size=64, sampler=valid_sampler)\n",
    "test_loader = torch.utils.data.DataLoader(test_data, batch_size=64)"
   ]
  },
  {
   "cell_type": "markdown",
   "metadata": {},
   "source": [
    "### Visualize the Data"
   ]
  },
  {
   "cell_type": "code",
   "execution_count": 5,
   "metadata": {},
   "outputs": [
    {
     "name": "stdout",
     "output_type": "stream",
     "text": [
      "torch.Size([64, 1, 28, 28]) torch.Size([64]) 48000\n"
     ]
    },
    {
     "data": {
      "image/png": "[encoded data removed]",
      "text/plain": [
       "<Figure size 432x288 with 1 Axes>"
      ]
     },
     "metadata": {
      "needs_background": "light"
     },
     "output_type": "display_data"
    },
    {
     "data": {
      "text/plain": [
       "tensor([5, 5, 9, 8, 7, 8, 8, 1, 3, 5, 7, 3, 3, 1, 4, 0, 0, 7, 7, 1, 6, 9, 2, 9,\n",
       "        5, 0, 7, 2, 5, 1, 8, 6, 3, 8, 3, 3, 1, 1, 3, 4, 7, 1, 0, 4, 3, 7, 0, 4,\n",
       "        6, 4, 3, 7, 1, 0, 5, 5, 9, 6, 4, 6, 9, 9, 2, 4])"
      ]
     },
     "execution_count": 5,
     "metadata": {},
     "output_type": "execute_result"
    }
   ],
   "source": [
    "import matplotlib.pyplot as plt\n",
    "\n",
    "dataiter = iter(train_loader)\n",
    "images, labels = dataiter.next()\n",
    "\n",
    "# We will use these values to average the loss values during training, so want to see them now\n",
    "print(images.shape, labels.shape, len(train_loader.sampler))\n",
    "\n",
    "image = images[0].view(28, 28)\n",
    "plt.imshow(image)\n",
    "plt.title(int(labels[0]))\n",
    "plt.show()\n",
    "labels"
   ]
  },
  {
   "cell_type": "markdown",
   "metadata": {},
   "source": [
    "### Define the Model"
   ]
  },
  {
   "cell_type": "code",
   "execution_count": 5,
   "metadata": {},
   "outputs": [
    {
     "data": {
      "text/plain": [
       "Classifier(\n",
       "  (fc1): Linear(in_features=784, out_features=512, bias=True)\n",
       "  (fc2): Linear(in_features=512, out_features=512, bias=True)\n",
       "  (fc3): Linear(in_features=512, out_features=10, bias=True)\n",
       "  (dropout): Dropout(p=0.2, inplace=False)\n",
       ")"
      ]
     },
     "execution_count": 5,
     "metadata": {},
     "output_type": "execute_result"
    }
   ],
   "source": [
    "from torch import nn\n",
    "import torch.nn.functional as F\n",
    "\n",
    "input_features = 28*28 # Number of pixels in a 28x28 image\n",
    "\n",
    "class Classifier(nn.Module):\n",
    "    def __init__(self):\n",
    "        super(Classifier, self).__init__()\n",
    "        \n",
    "        hidden_layers = 512 # Define size of hidden layers\n",
    "        outputs = 10 # We have ten outputs, because there are 10 classes: integers 0 - 9\n",
    "        \n",
    "        # Define a network with three linear layers\n",
    "        self.fc1 = nn.Linear(input_features, hidden_layers)\n",
    "        self.fc2 = nn.Linear(hidden_layers, hidden_layers)\n",
    "        self.fc3 = nn.Linear(hidden_layers, outputs)\n",
    "        \n",
    "        self.dropout = nn.Dropout(p=0.2)\n",
    "        \n",
    "    def forward(self, x):\n",
    "        \n",
    "        # Flatten the input image\n",
    "        x = x.view(-1, input_features)\n",
    "        \n",
    "        x = self.dropout(F.relu(self.fc1(x)))\n",
    "        x = self.dropout(F.relu(self.fc2(x)))\n",
    "        \n",
    "        # The softmax function will be applied by the loss function\n",
    "        # nn.CrossEntropyLoss(), so we don't need it here\n",
    "        x = self.fc3(x)\n",
    "        \n",
    "        return x\n",
    "    \n",
    "model = Classifier()\n",
    "model"
   ]
  },
  {
   "cell_type": "code",
   "execution_count": 10,
   "metadata": {},
   "outputs": [],
   "source": [
    "loss_funct = nn.CrossEntropyLoss()\n",
    "optimizer = torch.optim.SGD(model.parameters(), lr=0.003)"
   ]
  },
  {
   "cell_type": "markdown",
   "metadata": {},
   "source": [
    "### Train the Model"
   ]
  },
  {
   "cell_type": "code",
   "execution_count": 19,
   "metadata": {},
   "outputs": [
    {
     "name": "stdout",
     "output_type": "stream",
     "text": [
      "Epoch: 1 \tTraining loss: 1.9016266514460245 \tValidation loss: 1.2524875291188557\n",
      "Epoch: 2 \tTraining loss: 0.9242086842854818 \tValidation loss: 0.6272031400203705\n",
      "Epoch: 3 \tTraining loss: 0.6046747161547343 \tValidation loss: 0.473484574953715\n",
      "Epoch: 4 \tTraining loss: 0.5003850266536077 \tValidation loss: 0.40942799115180967\n",
      "Epoch: 5 \tTraining loss: 0.4479024640719096 \tValidation loss: 0.3744798984527588\n",
      "Epoch: 6 \tTraining loss: 0.411977165778478 \tValidation loss: 0.3518707323074341\n",
      "Epoch: 7 \tTraining loss: 0.38816539613405865 \tValidation loss: 0.33366715637842814\n",
      "Epoch: 8 \tTraining loss: 0.36834308723608655 \tValidation loss: 0.3184668942292531\n",
      "Epoch: 9 \tTraining loss: 0.35352429097890853 \tValidation loss: 0.3056948952277501\n",
      "Epoch: 10 \tTraining loss: 0.3394113501906395 \tValidation loss: 0.2959209718108177\n",
      "Epoch: 11 \tTraining loss: 0.32704274967312813 \tValidation loss: 0.2874207363526026\n",
      "Epoch: 12 \tTraining loss: 0.3146839319566886 \tValidation loss: 0.27808146135012307\n",
      "Epoch: 13 \tTraining loss: 0.30564353972673414 \tValidation loss: 0.26918024277687075\n",
      "Epoch: 14 \tTraining loss: 0.2935217332442602 \tValidation loss: 0.2613506288528442\n",
      "Epoch: 15 \tTraining loss: 0.2851688754061858 \tValidation loss: 0.25479926377534867\n",
      "Epoch: 16 \tTraining loss: 0.2770179770787557 \tValidation loss: 0.24771528363227843\n",
      "Epoch: 17 \tTraining loss: 0.2695933187305927 \tValidation loss: 0.24231057484944662\n",
      "Epoch: 18 \tTraining loss: 0.2635718236366908 \tValidation loss: 0.23493947627147038\n",
      "Epoch: 19 \tTraining loss: 0.25366176654895145 \tValidation loss: 0.22873782470822335\n",
      "Epoch: 20 \tTraining loss: 0.24786492642760277 \tValidation loss: 0.22288723425070445\n",
      "Epoch: 21 \tTraining loss: 0.24225562692681948 \tValidation loss: 0.21743008917570114\n",
      "Epoch: 22 \tTraining loss: 0.23446847252051037 \tValidation loss: 0.2163182777762413\n",
      "Epoch: 23 \tTraining loss: 0.22887356343865395 \tValidation loss: 0.20788771804173786\n",
      "Epoch: 24 \tTraining loss: 0.22325409205257893 \tValidation loss: 0.20287620409329732\n",
      "Epoch: 25 \tTraining loss: 0.21786214304963747 \tValidation loss: 0.19814576933781305\n",
      "Epoch: 26 \tTraining loss: 0.2118166462381681 \tValidation loss: 0.19413434366385143\n",
      "Epoch: 27 \tTraining loss: 0.20741005053122838 \tValidation loss: 0.18969834379355113\n",
      "Epoch: 28 \tTraining loss: 0.2029870099623998 \tValidation loss: 0.18679190905888876\n",
      "Epoch: 29 \tTraining loss: 0.19845112272600332 \tValidation loss: 0.18113451151053112\n",
      "Epoch: 30 \tTraining loss: 0.1921078618466854 \tValidation loss: 0.1784290096561114\n"
     ]
    }
   ],
   "source": [
    "epochs = 30\n",
    "\n",
    "# Losses per epoch\n",
    "train_losses = []\n",
    "valid_losses = []\n",
    "\n",
    "# Minimum validation loss\n",
    "valid_loss_min = np.Inf\n",
    "\n",
    "for e in range(epochs):\n",
    "    \n",
    "    # Loss per epoch\n",
    "    train_loss = 0\n",
    "    valid_loss = 0\n",
    "    \n",
    "    # Training loop\n",
    "    model.train()\n",
    "    for images, labels in train_loader:\n",
    "        optimizer.zero_grad()\n",
    "        output = model(images)\n",
    "        loss = loss_funct(output, labels)\n",
    "        loss.backward()\n",
    "        optimizer.step()\n",
    "        # Add all the loss for this batch of images\n",
    "        train_loss += loss.item()*images.size(0)\n",
    "    # Average the loss for this epoch over the size of the\n",
    "    # entire image batch\n",
    "    train_loss = train_loss/len(train_loader.sampler)\n",
    "    train_losses.append(train_loss)\n",
    "        \n",
    "    # Validation loop\n",
    "    model.eval()\n",
    "    for images, labels in valid_loader:\n",
    "        output = model(images)\n",
    "        loss = loss_funct(output, labels)\n",
    "        valid_loss += loss.item()*images.size(0)\n",
    "    valid_loss = valid_loss/len(valid_loader.sampler)\n",
    "    valid_losses.append(valid_loss)\n",
    "    \n",
    "    # Early stopping\n",
    "    if valid_loss > valid_loss_min:\n",
    "        break\n",
    "    else:\n",
    "        valid_loss_min = valid_loss\n",
    "        \n",
    "    # Telemetry\n",
    "    print(\"Epoch:\", e+1, \"\\tTraining loss:\", train_loss, \"\\tValidation loss:\", valid_loss)\n",
    "    \n",
    "    "
   ]
  },
  {
   "cell_type": "markdown",
   "metadata": {},
   "source": [
    "### Test the Model"
   ]
  },
  {
   "cell_type": "code",
   "execution_count": 6,
   "metadata": {},
   "outputs": [
    {
     "ename": "NameError",
     "evalue": "name 'loss_funct' is not defined",
     "output_type": "error",
     "traceback": [
      "\u001b[0;31m---------------------------------------------------------------------------\u001b[0m",
      "\u001b[0;31mNameError\u001b[0m                                 Traceback (most recent call last)",
      "\u001b[0;32m<ipython-input-6-112f657c028f>\u001b[0m in \u001b[0;36m<module>\u001b[0;34m\u001b[0m\n\u001b[1;32m     19\u001b[0m \u001b[0;34m\u001b[0m\u001b[0m\n\u001b[1;32m     20\u001b[0m     \u001b[0;31m### Calculate the Testing Loss ###\u001b[0m\u001b[0;34m\u001b[0m\u001b[0;34m\u001b[0m\u001b[0;34m\u001b[0m\u001b[0m\n\u001b[0;32m---> 21\u001b[0;31m     \u001b[0mloss\u001b[0m \u001b[0;34m=\u001b[0m \u001b[0mloss_funct\u001b[0m\u001b[0;34m(\u001b[0m\u001b[0mprobabilites\u001b[0m\u001b[0;34m,\u001b[0m \u001b[0mlabels\u001b[0m\u001b[0;34m)\u001b[0m\u001b[0;34m\u001b[0m\u001b[0;34m\u001b[0m\u001b[0m\n\u001b[0m\u001b[1;32m     22\u001b[0m     \u001b[0mtest_loss\u001b[0m \u001b[0;34m+=\u001b[0m \u001b[0mloss\u001b[0m\u001b[0;34m.\u001b[0m\u001b[0mitem\u001b[0m\u001b[0;34m(\u001b[0m\u001b[0;34m)\u001b[0m\u001b[0;34m*\u001b[0m\u001b[0mimages\u001b[0m\u001b[0;34m.\u001b[0m\u001b[0msize\u001b[0m\u001b[0;34m(\u001b[0m\u001b[0;36m0\u001b[0m\u001b[0;34m)\u001b[0m\u001b[0;34m\u001b[0m\u001b[0;34m\u001b[0m\u001b[0m\n\u001b[1;32m     23\u001b[0m \u001b[0;34m\u001b[0m\u001b[0m\n",
      "\u001b[0;31mNameError\u001b[0m: name 'loss_funct' is not defined"
     ]
    }
   ],
   "source": [
    "test_loss = 0\n",
    "test_accuracy = 0\n",
    "\n",
    "for images, labels in test_loader:\n",
    "    probabilites = model(images)\n",
    "    \n",
    "    ### Calculate the Accuracy of the Model ###\n",
    "    # extract the most likely class (the model's prediction) for each of the 64\n",
    "    # images in the test_loader batch. topk() returns the indices of the k largest elements of\n",
    "    # tensor as its second output, but since our classes are the integers 0 to 9, in\n",
    "    # order, this is equivalent to the predicted class\n",
    "    top_prob, top_class = probabilites.topk(1, dim=1)\n",
    "    \n",
    "    # True (1) if model's prediction is correct, False (0) otherwise\n",
    "    prediction_accuracies = top_class == labels.view(*top_class.shape)\n",
    "    \n",
    "    # Add the mean of the accuracies for all of the images\n",
    "    test_accuracy += torch.mean(prediction_accuracies.type(torch.FloatTensor))\n",
    "    \n",
    "    ### Calculate the Testing Loss ###\n",
    "    loss = loss_funct(probabilites, labels)\n",
    "    test_loss += loss.item()*images.size(0)\n",
    "    \n",
    "test_loss = test_loss/(len(test_loader.sampler))    \n",
    "test_accuracy = test_accuracy/len(test_loader)\n",
    "test_accuracy, test_loss"
   ]
  },
  {
   "cell_type": "markdown",
   "metadata": {},
   "source": [
    "### Define the Path for Saving and Loading"
   ]
  },
  {
   "cell_type": "code",
   "execution_count": 7,
   "metadata": {},
   "outputs": [],
   "source": [
    "path = \"2020_dl-nn_mnist-handwritten-digit-classifer.pt\""
   ]
  },
  {
   "cell_type": "markdown",
   "metadata": {},
   "source": [
    "### Save the Model\n",
    "\n",
    "Save the models `state_dict`, which contains the trained weights and biases, instead of the whole model."
   ]
  },
  {
   "cell_type": "code",
   "execution_count": 50,
   "metadata": {},
   "outputs": [],
   "source": [
    "torch.save(model.state_dict(), path)"
   ]
  },
  {
   "cell_type": "markdown",
   "metadata": {},
   "source": [
    "### Load the Model\n",
    "Define a new `model` with the same class (so it will have the same number of layers and neurons as the pretrained\n",
    "model's `state_dict`) and load the trained parameters into it."
   ]
  },
  {
   "cell_type": "code",
   "execution_count": 8,
   "metadata": {},
   "outputs": [
    {
     "data": {
      "text/plain": [
       "Classifier(\n",
       "  (fc1): Linear(in_features=784, out_features=512, bias=True)\n",
       "  (fc2): Linear(in_features=512, out_features=512, bias=True)\n",
       "  (fc3): Linear(in_features=512, out_features=10, bias=True)\n",
       "  (dropout): Dropout(p=0.2, inplace=False)\n",
       ")"
      ]
     },
     "execution_count": 8,
     "metadata": {},
     "output_type": "execute_result"
    }
   ],
   "source": [
    "model = Classifier()\n",
    "model.load_state_dict(torch.load(path))\n",
    "model.eval()\n",
    "model"
   ]
  },
  {
   "cell_type": "markdown",
   "metadata": {},
   "source": [
    "### Test the Model After Loading"
   ]
  },
  {
   "cell_type": "code",
   "execution_count": 11,
   "metadata": {},
   "outputs": [
    {
     "data": {
      "text/plain": [
       "(tensor(0.9488), 0.17099985998272896)"
      ]
     },
     "execution_count": 11,
     "metadata": {},
     "output_type": "execute_result"
    }
   ],
   "source": [
    "test_loss = 0\n",
    "test_accuracy = 0\n",
    "\n",
    "for images, labels in test_loader:\n",
    "    probabilites = model(images)\n",
    "    \n",
    "    ### Calculate the Accuracy of the Model ###\n",
    "    # extract the most likely class (the model's prediction) for each of the 64\n",
    "    # images in the test_loader batch. topk() returns the indices of the k largest elements of\n",
    "    # tensor as its second output, but since our classes are the integers 0 to 9, in\n",
    "    # order, this is equivalent to the predicted class\n",
    "    top_prob, top_class = probabilites.topk(1, dim=1)\n",
    "    \n",
    "    # True (1) if model's prediction is correct, False (0) otherwise\n",
    "    prediction_accuracies = top_class == labels.view(*top_class.shape)\n",
    "    \n",
    "    # Add the mean of the accuracies for all of the images\n",
    "    test_accuracy += torch.mean(prediction_accuracies.type(torch.FloatTensor))\n",
    "    \n",
    "    ### Calculate the Testing Loss ###\n",
    "    loss = loss_funct(probabilites, labels)\n",
    "    test_loss += loss.item()*images.size(0)\n",
    "    \n",
    "test_loss = test_loss/(len(test_loader.sampler))    \n",
    "test_accuracy = test_accuracy/len(test_loader)\n",
    "test_accuracy, test_loss"
   ]
  },
  {
   "cell_type": "markdown",
   "metadata": {},
   "source": [
    "### Visualize the Results"
   ]
  },
  {
   "cell_type": "code",
   "execution_count": 14,
   "metadata": {},
   "outputs": [
    {
     "data": {
      "text/plain": [
       "Text(0.5, 1.0, '4')"
      ]
     },
     "execution_count": 14,
     "metadata": {},
     "output_type": "execute_result"
    },
    {
     "data": {
      "image/png": "[encoded data removed]",
      "text/plain": [
       "<Figure size 432x288 with 1 Axes>"
      ]
     },
     "metadata": {
      "needs_background": "light"
     },
     "output_type": "display_data"
    }
   ],
   "source": [
    "dataiter = iter(test_loader)\n",
    "images, labels = dataiter.next()\n",
    "\n",
    "img_ind = 6\n",
    "\n",
    "image = images[img_ind].view(28, 28)\n",
    "plt.imshow(image)\n",
    "plt.title(int(labels[img_ind]))"
   ]
  },
  {
   "cell_type": "code",
   "execution_count": 15,
   "metadata": {},
   "outputs": [
    {
     "data": {
      "image/png": "[encoded data removed]",
      "text/plain": [
       "<Figure size 432x288 with 1 Axes>"
      ]
     },
     "metadata": {
      "needs_background": "light"
     },
     "output_type": "display_data"
    },
    {
     "data": {
      "text/plain": [
       "array([9.9381077e-07, 2.4626911e-06, 5.0909030e-06, 7.3617142e-05,\n",
       "       9.8542804e-01, 3.0968266e-03, 1.9995307e-05, 5.3182821e-04,\n",
       "       4.1072541e-03, 6.7339432e-03], dtype=float32)"
      ]
     },
     "execution_count": 15,
     "metadata": {},
     "output_type": "execute_result"
    }
   ],
   "source": [
    "def softmax(x):\n",
    "    return np.exp(x) / np.sum(np.exp(x), axis=0)\n",
    "\n",
    "probabilites = model(images)\n",
    "probability = softmax(probabilites[img_ind].detach().numpy())\n",
    "\n",
    "plt.plot(probability)\n",
    "plt.title(\"Probabilities\")\n",
    "\n",
    "plt.show()\n",
    "probability"
   ]
  }
 ],
 "metadata": {
  "kernelspec": {
   "display_name": "Python 3",
   "language": "python",
   "name": "python3"
  },
  "language_info": {
   "codemirror_mode": {
    "name": "ipython",
    "version": 3
   },
   "file_extension": ".py",
   "mimetype": "text/x-python",
   "name": "python",
   "nbconvert_exporter": "python",
   "pygments_lexer": "ipython3",
   "version": "3.8.2"
  }
 },
 "nbformat": 4,
 "nbformat_minor": 2
}
