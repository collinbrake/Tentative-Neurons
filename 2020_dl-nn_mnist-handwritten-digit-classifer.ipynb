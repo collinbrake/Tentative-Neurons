{
 "cells": [
  {
   "cell_type": "markdown",
   "metadata": {},
   "source": [
    "# 2020_dl-nn_mnist-handwritten-digit-classifer\n",
    "\n",
    "## Purpose\n",
    "\n",
    "This is a deep neural network that I am building from my notes from this class: [Udacity - Intro to Deep Learning with Pytorch](https://classroom.udacity.com/courses/ud188/lessons/c5706f76-0e30-4b48-b74e-c19fafc33a75/concepts/0d735345-f080-49c4-8fbf-a68012923f50). I want to reinforce what I learned from Lessons 4 and 5 by building a complete (basic) network using only my notes and the Pytorch documentation as references.\n",
    "\n",
    "## Plan\n",
    "\n",
    "- Transform and load MNIST handwritten digits data\n",
    "- Define a neural network class\n",
    "- Select an error function and optimizer for the network\n",
    "- Train the model with validation\n",
    "  - Print training and testing loss each epoch\n",
    "  - Graph?\n",
    "- Save the model\n",
    "- Load the model from file\n",
    "- Test the model"
   ]
  },
  {
   "cell_type": "code",
   "execution_count": 82,
   "metadata": {},
   "outputs": [],
   "source": [
    "import torch"
   ]
  },
  {
   "cell_type": "markdown",
   "metadata": {},
   "source": [
    "### Download, Transform, and Load the Data"
   ]
  },
  {
   "cell_type": "code",
   "execution_count": 83,
   "metadata": {},
   "outputs": [],
   "source": [
    "from torchvision import transforms, datasets\n",
    "from torch.utils.data.sampler import SubsetRandomSampler\n",
    "import numpy as np\n",
    "\n",
    "transform = transforms.Compose([transforms.ToTensor(),\n",
    "                                transforms.Normalize((0.5,), (0.5,))])\n",
    "\n",
    "train_data = datasets.MNIST(\"./2020_data_mnist\", train=True, transform=transform, download=True)\n",
    "test_data = datasets.MNIST(\"./2020_data_mnist\", train=False, transform=transform, download=False)\n",
    "\n",
    "# Percent of training data to split off for validation\n",
    "valid_size = 0.2\n",
    "\n",
    "data_len = len(train_data)\n",
    "indices = list(range(data_len))\n",
    "np.random.shuffle(indices)\n",
    "split = int(np.floor(valid_size * data_len))\n",
    "valid_indices, train_indices = indices[:split], indices[split:]\n",
    "\n",
    "train_sampler = SubsetRandomSampler(train_indices)\n",
    "valid_sampler = SubsetRandomSampler(valid_indices)\n",
    "\n",
    "train_loader = torch.utils.data.DataLoader(train_data, batch_size=64, sampler=train_sampler)\n",
    "valid_loader = torch.utils.data.DataLoader(train_data, batch_size=64, sampler=valid_sampler)\n",
    "test_loader = torch.utils.data.DataLoader(test_data, batch_size=64)"
   ]
  },
  {
   "cell_type": "markdown",
   "metadata": {},
   "source": [
    "### Visualize the Data"
   ]
  },
  {
   "cell_type": "code",
   "execution_count": 84,
   "metadata": {},
   "outputs": [
    {
     "name": "stdout",
     "output_type": "stream",
     "text": [
      "64 48000\n"
     ]
    },
    {
     "data": {
      "image/png": "[encoded data removed]",
      "text/plain": [
       "<Figure size 432x288 with 1 Axes>"
      ]
     },
     "metadata": {
      "needs_background": "light"
     },
     "output_type": "display_data"
    }
   ],
   "source": [
    "import matplotlib.pyplot as plt\n",
    "\n",
    "dataiter = iter(train_loader)\n",
    "images, labels = dataiter.next()\n",
    "\n",
    "# We will use these values to average the loss values during training, so want to see them now\n",
    "print(images.size(0), len(train_loader.sampler))\n",
    "\n",
    "image = images[0].view(28, 28)\n",
    "plt.imshow(image)\n",
    "plt.title(int(labels[0]))\n",
    "plt.show()"
   ]
  },
  {
   "cell_type": "markdown",
   "metadata": {},
   "source": [
    "### Define the Model"
   ]
  },
  {
   "cell_type": "code",
   "execution_count": 85,
   "metadata": {},
   "outputs": [
    {
     "data": {
      "text/plain": [
       "Classifier(\n",
       "  (fc1): Linear(in_features=784, out_features=512, bias=True)\n",
       "  (fc2): Linear(in_features=512, out_features=512, bias=True)\n",
       "  (fc3): Linear(in_features=512, out_features=10, bias=True)\n",
       "  (dropout): Dropout(p=0.2, inplace=False)\n",
       ")"
      ]
     },
     "execution_count": 85,
     "metadata": {},
     "output_type": "execute_result"
    }
   ],
   "source": [
    "from torch import nn\n",
    "import torch.nn.functional as F\n",
    "\n",
    "input_features = 28*28 # Number of pixels in a 28x28 image\n",
    "\n",
    "class Classifier(nn.Module):\n",
    "    def __init__(self):\n",
    "        super(Classifier, self).__init__()\n",
    "        \n",
    "        hidden_layers = 512 # Define size of hidden layers\n",
    "        outputs = 10 # We have ten outputs, because there are 10 classes: integers 0 - 9\n",
    "        \n",
    "        # Define a network with three linear layers\n",
    "        self.fc1 = nn.Linear(input_features, hidden_layers)\n",
    "        self.fc2 = nn.Linear(hidden_layers, hidden_layers)\n",
    "        self.fc3 = nn.Linear(hidden_layers, outputs)\n",
    "        \n",
    "        self.dropout = nn.Dropout(p=0.2)\n",
    "        \n",
    "    def forward(self, x):\n",
    "        \n",
    "        # Flatten the input image\n",
    "        x = x.view(-1, input_features)\n",
    "        \n",
    "        x = self.dropout(F.relu(self.fc1(x)))\n",
    "        x = self.dropout(F.relu(self.fc2(x)))\n",
    "        \n",
    "        # The softmax function will be applied by the loss function\n",
    "        # nn.CrossEntropyLoss(), so we don't need it here\n",
    "        x = self.fc3(x)\n",
    "        \n",
    "        return x\n",
    "    \n",
    "model = Classifier()\n",
    "model"
   ]
  },
  {
   "cell_type": "code",
   "execution_count": 86,
   "metadata": {},
   "outputs": [],
   "source": [
    "loss_funct = nn.CrossEntropyLoss()\n",
    "optimizer = torch.optim.SGD(model.parameters(), lr=0.003)"
   ]
  },
  {
   "cell_type": "markdown",
   "metadata": {},
   "source": [
    "### Train the Model"
   ]
  },
  {
   "cell_type": "code",
   "execution_count": 87,
   "metadata": {},
   "outputs": [
    {
     "name": "stdout",
     "output_type": "stream",
     "text": [
      "Epoch: 1 \tTraining loss: 1.8639494188626606 \tValidation loss: 1.1863089942932128\n",
      "Epoch: 2 \tTraining loss: 0.8901772654851278 \tValidation loss: 0.6020880839029948\n",
      "Epoch: 3 \tTraining loss: 0.5922448638280233 \tValidation loss: 0.46278220462799075\n",
      "Epoch: 4 \tTraining loss: 0.49522847537199655 \tValidation loss: 0.4041187928120295\n",
      "Epoch: 5 \tTraining loss: 0.44148444962501526 \tValidation loss: 0.36484241326649985\n",
      "Epoch: 6 \tTraining loss: 0.4084615867137909 \tValidation loss: 0.3427647197643916\n",
      "Epoch: 7 \tTraining loss: 0.3848771220048269 \tValidation loss: 0.3262525362968445\n",
      "Epoch: 8 \tTraining loss: 0.36506515250603355 \tValidation loss: 0.3136483033498128\n",
      "Epoch: 9 \tTraining loss: 0.3483230048120022 \tValidation loss: 0.3007921762863795\n",
      "Epoch: 10 \tTraining loss: 0.33554158528645833 \tValidation loss: 0.28934588420391083\n",
      "Epoch: 11 \tTraining loss: 0.32288234227895735 \tValidation loss: 0.2814884490172068\n",
      "Epoch: 12 \tTraining loss: 0.3123127380112807 \tValidation loss: 0.27329138306776685\n",
      "Epoch: 13 \tTraining loss: 0.3007120468417803 \tValidation loss: 0.26372718371947607\n",
      "Epoch: 14 \tTraining loss: 0.2920074890951316 \tValidation loss: 0.25595677026112873\n",
      "Epoch: 15 \tTraining loss: 0.28365173303087554 \tValidation loss: 0.24955359665552776\n",
      "Epoch: 16 \tTraining loss: 0.27419201599558196 \tValidation loss: 0.24297870318094889\n",
      "Epoch: 17 \tTraining loss: 0.2688476818303267 \tValidation loss: 0.23580352765321733\n",
      "Epoch: 18 \tTraining loss: 0.2598436614473661 \tValidation loss: 0.23084126538038255\n",
      "Epoch: 19 \tTraining loss: 0.2521803684880336 \tValidation loss: 0.2248679089943568\n",
      "Epoch: 20 \tTraining loss: 0.24659553541739782 \tValidation loss: 0.21926667487621307\n",
      "Epoch: 21 \tTraining loss: 0.2410156413813432 \tValidation loss: 0.21339860606193542\n",
      "Epoch: 22 \tTraining loss: 0.23331694677472115 \tValidation loss: 0.20836775066455204\n",
      "Epoch: 23 \tTraining loss: 0.22802034135659535 \tValidation loss: 0.20213784754276276\n",
      "Epoch: 24 \tTraining loss: 0.22134036735693613 \tValidation loss: 0.1975816513299942\n",
      "Epoch: 25 \tTraining loss: 0.21570672249794007 \tValidation loss: 0.1938197785615921\n",
      "Epoch: 26 \tTraining loss: 0.21109616876145204 \tValidation loss: 0.18911464281876883\n",
      "Epoch: 27 \tTraining loss: 0.2045951454391082 \tValidation loss: 0.1852819121082624\n",
      "Epoch: 28 \tTraining loss: 0.20127117837468783 \tValidation loss: 0.1807303496003151\n",
      "Epoch: 29 \tTraining loss: 0.195968749816219 \tValidation loss: 0.1767273128827413\n",
      "Epoch: 30 \tTraining loss: 0.19170537675420443 \tValidation loss: 0.17345447979370754\n"
     ]
    }
   ],
   "source": [
    "epochs = 30\n",
    "\n",
    "# Losses per epoch\n",
    "train_losses = []\n",
    "valid_losses = []\n",
    "\n",
    "# Minimum validation loss\n",
    "valid_loss_min = np.Inf\n",
    "\n",
    "for e in range(epochs):\n",
    "    \n",
    "    # Loss per epoch\n",
    "    train_loss = 0\n",
    "    valid_loss = 0\n",
    "    \n",
    "    # Training loop\n",
    "    model.train()\n",
    "    for images, labels in train_loader:\n",
    "        optimizer.zero_grad()\n",
    "        output = model(images)\n",
    "        loss = loss_funct(output, labels)\n",
    "        loss.backward()\n",
    "        optimizer.step()\n",
    "        train_loss += loss.item()*images.size(0)\n",
    "    train_loss = train_loss/len(train_loader.sampler)\n",
    "    train_losses.append(train_loss)\n",
    "        \n",
    "    # Validation loop\n",
    "    model.eval()\n",
    "    for images, labels in valid_loader:\n",
    "        output = model(images)\n",
    "        loss = loss_funct(output, labels)\n",
    "        valid_loss += loss.item()*images.size(0)\n",
    "    valid_loss = valid_loss/len(valid_loader.sampler)\n",
    "    valid_losses.append(valid_loss)\n",
    "    \n",
    "    # Early stopping\n",
    "    if valid_loss > valid_loss_min:\n",
    "        break\n",
    "    else:\n",
    "        valid_loss_min = valid_loss\n",
    "        \n",
    "    # Telemetry\n",
    "    print(\"Epoch:\", e+1, \"\\tTraining loss:\", train_loss, \"\\tValidation loss:\", valid_loss)\n",
    "    \n",
    "    "
   ]
  },
  {
   "cell_type": "code",
   "execution_count": null,
   "metadata": {},
   "outputs": [],
   "source": []
  }
 ],
 "metadata": {
  "kernelspec": {
   "display_name": "Python 3",
   "language": "python",
   "name": "python3"
  },
  "language_info": {
   "codemirror_mode": {
    "name": "ipython",
    "version": 3
   },
   "file_extension": ".py",
   "mimetype": "text/x-python",
   "name": "python",
   "nbconvert_exporter": "python",
   "pygments_lexer": "ipython3",
   "version": "3.8.2"
  }
 },
 "nbformat": 4,
 "nbformat_minor": 2
}
