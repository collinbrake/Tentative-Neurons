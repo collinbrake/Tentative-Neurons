{
 "cells": [
  {
   "cell_type": "markdown",
   "metadata": {},
   "source": [
    "# 2020_dl-nn_mnist-handwritten-digit-classifer\n",
    "\n",
    "## Purpose\n",
    "\n",
    "This is a deep neural network that I am building from my notes from this class: [Udacity - Intro to Deep Learning with Pytorch](https://classroom.udacity.com/courses/ud188/lessons/c5706f76-0e30-4b48-b74e-c19fafc33a75/concepts/0d735345-f080-49c4-8fbf-a68012923f50). I want to reinforce what I learned from Lessons 4 and 5 by building a complete (basic) network using only my notes and the Pytorch documentation as references.\n",
    "\n",
    "## Plan\n",
    "\n",
    "- Transform and load MNIST handwritten digits data\n",
    "- Define a neural network class\n",
    "- Select an error function and optimizer for the network\n",
    "- Train the model with validation\n",
    "  - Print training and testing loss each epoch\n",
    "  - Graph?\n",
    "- Save the model\n",
    "- Load the model from file\n",
    "- Test the model"
   ]
  },
  {
   "cell_type": "code",
   "execution_count": 1,
   "metadata": {},
   "outputs": [],
   "source": [
    "import torch"
   ]
  },
  {
   "cell_type": "markdown",
   "metadata": {},
   "source": [
    "### Download, Transform, and Load the Data"
   ]
  },
  {
   "cell_type": "code",
   "execution_count": 2,
   "metadata": {},
   "outputs": [],
   "source": [
    "from torchvision import transforms, datasets\n",
    "from torch.utils.data.sampler import SubsetRandomSampler\n",
    "import numpy as np\n",
    "\n",
    "transform = transforms.Compose([transforms.ToTensor(),\n",
    "                                transforms.Normalize((0.5,), (0.5,))])\n",
    "\n",
    "train_data = datasets.MNIST(\"./2020_data_mnist\", train=True, transform=transform, download=True)\n",
    "test_data = datasets.MNIST(\"./2020_data_mnist\", train=False, transform=transform, download=False)\n",
    "\n",
    "# Percent of training data to split off for validation\n",
    "valid_size = 0.2\n",
    "\n",
    "data_len = len(train_data)\n",
    "indices = list(range(data_len))\n",
    "np.random.shuffle(indices)\n",
    "split = int(np.floor(valid_size * data_len))\n",
    "valid_indices, train_indices = indices[:split], indices[split:]\n",
    "\n",
    "train_sampler = SubsetRandomSampler(train_indices)\n",
    "valid_sampler = SubsetRandomSampler(valid_indices)\n",
    "\n",
    "train_loader = torch.utils.data.DataLoader(train_data, batch_size=64, sampler=train_sampler)\n",
    "valid_loader = torch.utils.data.DataLoader(train_data, batch_size=64, sampler=valid_sampler)\n",
    "test_loader = torch.utils.data.DataLoader(test_data, batch_size=64)"
   ]
  },
  {
   "cell_type": "markdown",
   "metadata": {},
   "source": [
    "### Visualize the Data"
   ]
  },
  {
   "cell_type": "code",
   "execution_count": 3,
   "metadata": {},
   "outputs": [
    {
     "name": "stdout",
     "output_type": "stream",
     "text": [
      "64 48000\n"
     ]
    },
    {
     "data": {
      "image/png": "[encoded data removed]",
      "text/plain": [
       "<Figure size 432x288 with 1 Axes>"
      ]
     },
     "metadata": {
      "needs_background": "light"
     },
     "output_type": "display_data"
    }
   ],
   "source": [
    "import matplotlib.pyplot as plt\n",
    "\n",
    "dataiter = iter(train_loader)\n",
    "images, labels = dataiter.next()\n",
    "\n",
    "# We will use these values to average the loss values during training, so want to see them now\n",
    "print(images.size(0), len(train_loader.sampler))\n",
    "\n",
    "image = images[0].view(28, 28)\n",
    "plt.imshow(image)\n",
    "plt.title(int(labels[0]))\n",
    "plt.show()"
   ]
  },
  {
   "cell_type": "markdown",
   "metadata": {},
   "source": [
    "### Define the Model"
   ]
  },
  {
   "cell_type": "code",
   "execution_count": 4,
   "metadata": {},
   "outputs": [
    {
     "data": {
      "text/plain": [
       "Classifier(\n",
       "  (fc1): Linear(in_features=784, out_features=512, bias=True)\n",
       "  (fc2): Linear(in_features=512, out_features=512, bias=True)\n",
       "  (fc3): Linear(in_features=512, out_features=10, bias=True)\n",
       "  (dropout): Dropout(p=0.2, inplace=False)\n",
       ")"
      ]
     },
     "execution_count": 4,
     "metadata": {},
     "output_type": "execute_result"
    }
   ],
   "source": [
    "from torch import nn\n",
    "import torch.nn.functional as F\n",
    "\n",
    "input_features = 28*28 # Number of pixels in a 28x28 image\n",
    "\n",
    "class Classifier(nn.Module):\n",
    "    def __init__(self):\n",
    "        super(Classifier, self).__init__()\n",
    "        \n",
    "        hidden_layers = 512 # Define size of hidden layers\n",
    "        outputs = 10 # We have ten outputs, because there are 10 classes: integers 0 - 9\n",
    "        \n",
    "        # Define a network with three linear layers\n",
    "        self.fc1 = nn.Linear(input_features, hidden_layers)\n",
    "        self.fc2 = nn.Linear(hidden_layers, hidden_layers)\n",
    "        self.fc3 = nn.Linear(hidden_layers, outputs)\n",
    "        \n",
    "        self.dropout = nn.Dropout(p=0.2)\n",
    "        \n",
    "    def forward(self, x):\n",
    "        \n",
    "        # Flatten the input image\n",
    "        x = x.view(-1, input_features)\n",
    "        \n",
    "        x = self.dropout(F.relu(self.fc1(x)))\n",
    "        x = self.dropout(F.relu(self.fc2(x)))\n",
    "        \n",
    "        # The softmax function will be applied by the loss function\n",
    "        # nn.CrossEntropyLoss(), so we don't need it here\n",
    "        x = self.fc3(x)\n",
    "        \n",
    "        return x\n",
    "    \n",
    "model = Classifier()\n",
    "model"
   ]
  },
  {
   "cell_type": "code",
   "execution_count": 5,
   "metadata": {},
   "outputs": [],
   "source": [
    "loss_funct = nn.CrossEntropyLoss()\n",
    "optimizer = torch.optim.SGD(model.parameters(), lr=0.003)"
   ]
  },
  {
   "cell_type": "markdown",
   "metadata": {},
   "source": [
    "### Train the Model"
   ]
  },
  {
   "cell_type": "code",
   "execution_count": 6,
   "metadata": {},
   "outputs": [
    {
     "name": "stdout",
     "output_type": "stream",
     "text": [
      "Epoch: 1 \tTraining loss: 1.8903843593597411 \tValidation loss: 1.2456121816635133\n",
      "Epoch: 2 \tTraining loss: 0.9211571972370147 \tValidation loss: 0.6319581549962362\n",
      "Epoch: 3 \tTraining loss: 0.6015076321760814 \tValidation loss: 0.4796861864725749\n",
      "Epoch: 4 \tTraining loss: 0.49520129056771595 \tValidation loss: 0.4160646815697352\n",
      "Epoch: 5 \tTraining loss: 0.44397508360942206 \tValidation loss: 0.37875874296824136\n",
      "Epoch: 6 \tTraining loss: 0.4087307212948799 \tValidation loss: 0.3542949155966441\n",
      "Epoch: 7 \tTraining loss: 0.38505113914608957 \tValidation loss: 0.33615836131572724\n",
      "Epoch: 8 \tTraining loss: 0.3662887257734935 \tValidation loss: 0.32256037497520446\n",
      "Epoch: 9 \tTraining loss: 0.349906762500604 \tValidation loss: 0.31092374845345816\n",
      "Epoch: 10 \tTraining loss: 0.3359996593395869 \tValidation loss: 0.29958967673778536\n",
      "Epoch: 11 \tTraining loss: 0.3238604234755039 \tValidation loss: 0.2886936815579732\n",
      "Epoch: 12 \tTraining loss: 0.31395610922574996 \tValidation loss: 0.2802709978024165\n",
      "Epoch: 13 \tTraining loss: 0.3028448683321476 \tValidation loss: 0.27166513152917227\n",
      "Epoch: 14 \tTraining loss: 0.29405225189526873 \tValidation loss: 0.2634355353116989\n",
      "Epoch: 15 \tTraining loss: 0.28473319113254547 \tValidation loss: 0.25690064827601117\n",
      "Epoch: 16 \tTraining loss: 0.278368718534708 \tValidation loss: 0.2511281660397848\n",
      "Epoch: 17 \tTraining loss: 0.26949999077121417 \tValidation loss: 0.24412592911720277\n",
      "Epoch: 18 \tTraining loss: 0.2619496222337087 \tValidation loss: 0.23551602925856907\n",
      "Epoch: 19 \tTraining loss: 0.2548030905822913 \tValidation loss: 0.2296349368095398\n",
      "Epoch: 20 \tTraining loss: 0.24816852531333763 \tValidation loss: 0.22410805435975392\n",
      "Epoch: 21 \tTraining loss: 0.2404909682671229 \tValidation loss: 0.21813825857639313\n",
      "Epoch: 22 \tTraining loss: 0.23459349040190378 \tValidation loss: 0.21346542114019393\n",
      "Epoch: 23 \tTraining loss: 0.22951214632888636 \tValidation loss: 0.20797952671845754\n",
      "Epoch: 24 \tTraining loss: 0.22299568443000317 \tValidation loss: 0.20237399540344875\n",
      "Epoch: 25 \tTraining loss: 0.216463243017594 \tValidation loss: 0.197214515209198\n",
      "Epoch: 26 \tTraining loss: 0.21160134414831797 \tValidation loss: 0.19315949644645056\n",
      "Epoch: 27 \tTraining loss: 0.20696484783291816 \tValidation loss: 0.18852989834547043\n",
      "Epoch: 28 \tTraining loss: 0.201156153768301 \tValidation loss: 0.18564711483319601\n",
      "Epoch: 29 \tTraining loss: 0.19841653208434581 \tValidation loss: 0.18030592741568882\n",
      "Epoch: 30 \tTraining loss: 0.1923076827476422 \tValidation loss: 0.1767373210589091\n"
     ]
    }
   ],
   "source": [
    "epochs = 30\n",
    "\n",
    "# Losses per epoch\n",
    "train_losses = []\n",
    "valid_losses = []\n",
    "\n",
    "# Minimum validation loss\n",
    "valid_loss_min = np.Inf\n",
    "\n",
    "for e in range(epochs):\n",
    "    \n",
    "    # Loss per epoch\n",
    "    train_loss = 0\n",
    "    valid_loss = 0\n",
    "    \n",
    "    # Training loop\n",
    "    model.train()\n",
    "    for images, labels in train_loader:\n",
    "        optimizer.zero_grad()\n",
    "        output = model(images)\n",
    "        loss = loss_funct(output, labels)\n",
    "        loss.backward()\n",
    "        optimizer.step()\n",
    "        train_loss += loss.item()*images.size(0)\n",
    "    train_loss = train_loss/len(train_loader.sampler)\n",
    "    train_losses.append(train_loss)\n",
    "        \n",
    "    # Validation loop\n",
    "    model.eval()\n",
    "    for images, labels in valid_loader:\n",
    "        output = model(images)\n",
    "        loss = loss_funct(output, labels)\n",
    "        valid_loss += loss.item()*images.size(0)\n",
    "    valid_loss = valid_loss/len(valid_loader.sampler)\n",
    "    valid_losses.append(valid_loss)\n",
    "    \n",
    "    # Early stopping\n",
    "    if valid_loss > valid_loss_min:\n",
    "        break\n",
    "    else:\n",
    "        valid_loss_min = valid_loss\n",
    "        \n",
    "    # Telemetry\n",
    "    print(\"Epoch:\", e+1, \"\\tTraining loss:\", train_loss, \"\\tValidation loss:\", valid_loss)\n",
    "    \n",
    "    "
   ]
  },
  {
   "cell_type": "markdown",
   "metadata": {},
   "source": [
    "### Save the Model\n",
    "\n",
    "Save the models `state_dict`, which contains the trained weights and biases, instead of the whole model."
   ]
  },
  {
   "cell_type": "code",
   "execution_count": 11,
   "metadata": {},
   "outputs": [],
   "source": [
    "path = \"2020_dl-nn_mnist-handwritten-digit-classifer.pt\"\n",
    "torch.save(model.state_dict(), path)"
   ]
  },
  {
   "cell_type": "markdown",
   "metadata": {},
   "source": [
    "### Load the Model\n",
    "Define a new `model` with the same class (so it will have the same number of layers and neurons as the pretrained\n",
    "model's `state_dict`) and load the trained parameters into it."
   ]
  },
  {
   "cell_type": "code",
   "execution_count": 12,
   "metadata": {},
   "outputs": [
    {
     "data": {
      "text/plain": [
       "Classifier(\n",
       "  (fc1): Linear(in_features=784, out_features=512, bias=True)\n",
       "  (fc2): Linear(in_features=512, out_features=512, bias=True)\n",
       "  (fc3): Linear(in_features=512, out_features=10, bias=True)\n",
       "  (dropout): Dropout(p=0.2, inplace=False)\n",
       ")"
      ]
     },
     "execution_count": 12,
     "metadata": {},
     "output_type": "execute_result"
    }
   ],
   "source": [
    "model = Classifier()\n",
    "model.load_state_dict(torch.load(path))\n",
    "model.eval()\n",
    "model"
   ]
  },
  {
   "cell_type": "markdown",
   "metadata": {},
   "source": [
    "### Test the Model"
   ]
  },
  {
   "cell_type": "code",
   "execution_count": 30,
   "metadata": {},
   "outputs": [
    {
     "data": {
      "text/plain": [
       "(tensor(0.0995),\n",
       " 2.315855238723755,\n",
       " tensor([-0.0182, -0.2432,  0.0253,  0.0093, -0.0492, -0.0940, -0.1480, -0.0572,\n",
       "         -0.0662, -0.0955], grad_fn=<SelectBackward>))"
      ]
     },
     "execution_count": 30,
     "metadata": {},
     "output_type": "execute_result"
    }
   ],
   "source": [
    "test_loss = 0\n",
    "test_accuracy = 0\n",
    "\n",
    "for images, labels in test_loader:\n",
    "    probabilites = model(images)\n",
    "    \n",
    "    ### Calculate the Accuracy of the Model ###\n",
    "    # extract the most likely class (the model's prediction) for each of the 64\n",
    "    # images in the test_loader batch. topk() the indeces of the k largest elements of\n",
    "    # tensor as its second output, but since our classes are the integers 0 to 9, in\n",
    "    # order, this is equivalent to the predicted class\n",
    "    top_prob, top_class = probabilites.topk(1, dim=1)\n",
    "    \n",
    "    # True (1) if model's prediction is correct, False (0) otherwise\n",
    "    prediction_accuracies = top_class == labels.view(*top_class.shape)\n",
    "    \n",
    "    # Add the mean of the accuracies for all of the images\n",
    "    test_accuracy += torch.mean(prediction_accuracies.type(torch.FloatTensor))\n",
    "    \n",
    "    ### Calculate the Testing Loss ###\n",
    "    loss = loss_funct(probabilites, labels)\n",
    "    test_loss += loss.item()*images.size(0)\n",
    "    \n",
    "test_loss = test_loss/(len(test_loader.sampler))    \n",
    "test_accuracy = test_accuracy/len(test_loader)\n",
    "test_accuracy, test_loss, probabilites[0]"
   ]
  },
  {
   "cell_type": "markdown",
   "metadata": {},
   "source": [
    "### Visualize the Results"
   ]
  },
  {
   "cell_type": "code",
   "execution_count": 36,
   "metadata": {},
   "outputs": [
    {
     "data": {
      "text/plain": [
       "Text(0.5, 1.0, '7')"
      ]
     },
     "execution_count": 36,
     "metadata": {},
     "output_type": "execute_result"
    },
    {
     "data": {
      "image/png": "[encoded data removed]",
      "text/plain": [
       "<Figure size 432x288 with 1 Axes>"
      ]
     },
     "metadata": {
      "needs_background": "light"
     },
     "output_type": "display_data"
    }
   ],
   "source": [
    "dataiter = iter(test_loader)\n",
    "images, labels = dataiter.next()\n",
    "\n",
    "image = images[0].view(28, 28)\n",
    "plt.imshow(image)\n",
    "plt.title(int(labels[0]))"
   ]
  },
  {
   "cell_type": "code",
   "execution_count": 37,
   "metadata": {},
   "outputs": [
    {
     "data": {
      "image/png": "[encoded data removed]",
      "text/plain": [
       "<Figure size 432x288 with 1 Axes>"
      ]
     },
     "metadata": {
      "needs_background": "light"
     },
     "output_type": "display_data"
    }
   ],
   "source": [
    "probabilites = model(images)\n",
    "probability = probabilites[0].detach().numpy()\n",
    "\n",
    "plt.plot(probability)\n",
    "plt.title()\n",
    "\n",
    "plt.show()"
   ]
  },
  {
   "cell_type": "code",
   "execution_count": null,
   "metadata": {},
   "outputs": [],
   "source": []
  }
 ],
 "metadata": {
  "kernelspec": {
   "display_name": "Python 3",
   "language": "python",
   "name": "python3"
  },
  "language_info": {
   "codemirror_mode": {
    "name": "ipython",
    "version": 3
   },
   "file_extension": ".py",
   "mimetype": "text/x-python",
   "name": "python",
   "nbconvert_exporter": "python",
   "pygments_lexer": "ipython3",
   "version": "3.8.2"
  }
 },
 "nbformat": 4,
 "nbformat_minor": 2
}
